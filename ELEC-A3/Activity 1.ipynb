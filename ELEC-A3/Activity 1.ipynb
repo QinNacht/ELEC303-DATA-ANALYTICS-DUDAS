{
 "cells": [
  {
   "cell_type": "markdown",
   "id": "5bd34b47-3c6d-4cbc-a41d-65b7d84dee93",
   "metadata": {},
   "source": [
    "<h1>Palmer Penguins Data analytics</h1>\n",
    "<hr>\n",
    "<h2>Analyst : Din Lienard L. Dudas</h2>"
   ]
  },
  {
   "cell_type": "code",
   "execution_count": 1,
   "id": "499e40d3-76ac-4c6f-a2a7-800e1e1593ff",
   "metadata": {},
   "outputs": [],
   "source": [
    "import numpy as np\n",
    "import pandas as pd\n",
    "from scipy.stats import f_oneway\n",
    "import warnings\n",
    "warnings.simplefilter(\"ignore\")"
   ]
  },
  {
   "cell_type": "code",
   "execution_count": 2,
   "id": "afba26c3-6f53-4f14-b218-c1025b51a5ad",
   "metadata": {},
   "outputs": [],
   "source": [
    "penguins = pd.read_csv('penguins.csv')"
   ]
  },
  {
   "cell_type": "code",
   "execution_count": 3,
   "id": "a56693a8-8b0f-4f96-9e8d-d01665ec3707",
   "metadata": {},
   "outputs": [],
   "source": [
    "penguins['sex'] = penguins['sex'].fillna(penguins['sex'].mode()[0])\n",
    "penguins['body_mass_g'] = penguins['body_mass_g'].fillna(penguins['body_mass_g'].mean())"
   ]
  },
  {
   "cell_type": "code",
   "execution_count": 4,
   "id": "30939b6d-c246-4eab-89fc-3355da451748",
   "metadata": {},
   "outputs": [],
   "source": [
    "penguins['species'] = penguins['species'].astype('category')\n",
    "penguins['island'] = penguins['island'].astype('category')\n",
    "penguins['year'] = penguins['year'].astype('category')\n",
    "penguins['sex'] = penguins['sex'].astype('category')"
   ]
  },
  {
   "cell_type": "code",
   "execution_count": 5,
   "id": "108bc68a-3c4e-4fc8-8830-ea9e4d3ca9fc",
   "metadata": {},
   "outputs": [],
   "source": [
    "penguins['bill_depth_mm'] = penguins['bill_depth_mm'].fillna(penguins['bill_depth_mm'].mean())\n",
    "penguins['bill_length_mm'] = penguins['bill_length_mm'].fillna(penguins['bill_length_mm'].mean())\n",
    "penguins['flipper_length_mm'] = penguins['flipper_length_mm'].fillna(penguins['flipper_length_mm'].mean())"
   ]
  },
  {
   "cell_type": "code",
   "execution_count": 6,
   "id": "3b8b7ac5-377b-432c-9ebc-ef7dd0bbb3be",
   "metadata": {},
   "outputs": [],
   "source": [
    "penguins['mass_kg'] = round(penguins['body_mass_g'] / 1000,1)"
   ]
  },
  {
   "cell_type": "code",
   "execution_count": 7,
   "id": "9271a734-1dd2-4578-bfc6-57213547adec",
   "metadata": {},
   "outputs": [
    {
     "name": "stdout",
     "output_type": "stream",
     "text": [
      "<class 'pandas.core.frame.DataFrame'>\n",
      "RangeIndex: 344 entries, 0 to 343\n",
      "Data columns (total 10 columns):\n",
      " #   Column             Non-Null Count  Dtype   \n",
      "---  ------             --------------  -----   \n",
      " 0   rowid              344 non-null    int64   \n",
      " 1   species            344 non-null    category\n",
      " 2   island             344 non-null    category\n",
      " 3   bill_length_mm     344 non-null    float64 \n",
      " 4   bill_depth_mm      344 non-null    float64 \n",
      " 5   flipper_length_mm  344 non-null    float64 \n",
      " 6   body_mass_g        344 non-null    float64 \n",
      " 7   sex                344 non-null    category\n",
      " 8   year               344 non-null    category\n",
      " 9   mass_kg            344 non-null    float64 \n",
      "dtypes: category(4), float64(5), int64(1)\n",
      "memory usage: 18.1 KB\n"
     ]
    }
   ],
   "source": [
    "penguins.info()"
   ]
  },
  {
   "cell_type": "markdown",
   "id": "19a2e0a3-c15e-4ff6-af05-411f985dd16c",
   "metadata": {},
   "source": [
    "<h1>Questions and Insights</h1>\n",
    "<hr>"
   ]
  },
  {
   "cell_type": "markdown",
   "id": "29af4672-e1fe-4b53-9e82-45be33eef31a",
   "metadata": {},
   "source": [
    "<h3>1. Which species from the dateset has the longest bill length?</h3>"
   ]
  },
  {
   "cell_type": "code",
   "execution_count": 8,
   "id": "b5985392-f731-4680-8d57-b6ad13629cc4",
   "metadata": {},
   "outputs": [
    {
     "data": {
      "text/plain": [
       "['Adelie', 'Gentoo', 'Chinstrap']\n",
       "Categories (3, object): ['Adelie', 'Chinstrap', 'Gentoo']"
      ]
     },
     "execution_count": 8,
     "metadata": {},
     "output_type": "execute_result"
    }
   ],
   "source": [
    "penguins['species'].unique()"
   ]
  },
  {
   "cell_type": "code",
   "execution_count": 9,
   "id": "5d2859e4-7779-4ffc-8902-4b281eabd6b4",
   "metadata": {},
   "outputs": [
    {
     "data": {
      "text/plain": [
       "np.float64(38.82514427516159)"
      ]
     },
     "execution_count": 9,
     "metadata": {},
     "output_type": "execute_result"
    }
   ],
   "source": [
    "adelie_df = penguins[penguins['species'] == 'Adelie']\n",
    "adelie_df['bill_length_mm'].mean()"
   ]
  },
  {
   "cell_type": "code",
   "execution_count": 10,
   "id": "8913f0d0-5acd-4968-804d-314707dfa879",
   "metadata": {},
   "outputs": [
    {
     "data": {
      "text/plain": [
       "np.float64(47.475983305036785)"
      ]
     },
     "execution_count": 10,
     "metadata": {},
     "output_type": "execute_result"
    }
   ],
   "source": [
    "gentoo_df = penguins[penguins['species'] == 'Gentoo']\n",
    "gentoo_df['bill_length_mm'].mean()"
   ]
  },
  {
   "cell_type": "code",
   "execution_count": 11,
   "id": "e7718e0a-ac4a-4ecb-a2b8-7e1a082f6f03",
   "metadata": {},
   "outputs": [
    {
     "data": {
      "text/plain": [
       "np.float64(48.83382352941177)"
      ]
     },
     "execution_count": 11,
     "metadata": {},
     "output_type": "execute_result"
    }
   ],
   "source": [
    "chinstrap_df = penguins[penguins['species'] == 'Chinstrap']\n",
    "chinstrap_df['bill_length_mm'].mean()"
   ]
  },
  {
   "cell_type": "markdown",
   "id": "5f0a8cb0-510b-448c-bae8-2a0960d4dd19",
   "metadata": {},
   "source": [
    "<h1>Insight:</h1>\n",
    "<h3>The species that has the longest bill by length is \"Chinstrap\" with the length of 48.8mm on average.</h3>\n",
    "<hr>"
   ]
  },
  {
   "cell_type": "markdown",
   "id": "86d146ce-d35e-4b91-b675-43f1b5f46736",
   "metadata": {},
   "source": [
    "<h3>2. Which species from the dateset has the longest bill depth?</h3>"
   ]
  },
  {
   "cell_type": "code",
   "execution_count": 12,
   "id": "a6bc753f-2ba1-4722-a8b4-60084920e655",
   "metadata": {},
   "outputs": [
    {
     "data": {
      "text/plain": [
       "np.float64(18.338494536780548)"
      ]
     },
     "execution_count": 12,
     "metadata": {},
     "output_type": "execute_result"
    }
   ],
   "source": [
    "adelie_df = penguins[penguins['species'] == 'Adelie']\n",
    "adelie_df['bill_depth_mm'].mean()"
   ]
  },
  {
   "cell_type": "code",
   "execution_count": 13,
   "id": "b25c0b36-fd64-4382-b26a-b509e63ac11e",
   "metadata": {},
   "outputs": [
    {
     "data": {
      "text/plain": [
       "np.float64(14.999606206376153)"
      ]
     },
     "execution_count": 13,
     "metadata": {},
     "output_type": "execute_result"
    }
   ],
   "source": [
    "gentoo_df = penguins[penguins['species'] == 'Gentoo']\n",
    "gentoo_df['bill_depth_mm'].mean()"
   ]
  },
  {
   "cell_type": "code",
   "execution_count": 14,
   "id": "4ce81d28-05c4-40df-b7a2-3349e70bbcda",
   "metadata": {},
   "outputs": [
    {
     "data": {
      "text/plain": [
       "np.float64(18.42058823529412)"
      ]
     },
     "execution_count": 14,
     "metadata": {},
     "output_type": "execute_result"
    }
   ],
   "source": [
    "chinstrap_df = penguins[penguins['species'] == 'Chinstrap']\n",
    "chinstrap_df['bill_depth_mm'].mean()"
   ]
  },
  {
   "cell_type": "markdown",
   "id": "96c38347-c25d-406c-8206-9c4bd6c95529",
   "metadata": {},
   "source": [
    "<h1>Insight:</h1>\n",
    "<h3>The species that has the longest bill by depth is \"Chinstrap\" with the depth of 18.4mm on average.</h3>\n",
    "<hr>"
   ]
  },
  {
   "cell_type": "markdown",
   "id": "4660cbd9-3adc-4968-bae2-0ed30ef64207",
   "metadata": {},
   "source": [
    "<h3>3. Which species from the dataset has the longest flipper length?</h3>"
   ]
  },
  {
   "cell_type": "code",
   "execution_count": 15,
   "id": "116f689f-bcd0-4eb6-a938-2d929c3b079a",
   "metadata": {},
   "outputs": [
    {
     "data": {
      "text/plain": [
       "['Adelie', 'Gentoo', 'Chinstrap']\n",
       "Categories (3, object): ['Adelie', 'Chinstrap', 'Gentoo']"
      ]
     },
     "execution_count": 15,
     "metadata": {},
     "output_type": "execute_result"
    }
   ],
   "source": [
    "penguins['species'].unique()"
   ]
  },
  {
   "cell_type": "code",
   "execution_count": 16,
   "id": "65b71f0f-8b07-4465-bfc9-c928fae76b72",
   "metadata": {},
   "outputs": [
    {
     "data": {
      "text/plain": [
       "np.float64(190.02575792551556)"
      ]
     },
     "execution_count": 16,
     "metadata": {},
     "output_type": "execute_result"
    }
   ],
   "source": [
    "adelie_f = penguins[penguins['species'] == 'Adelie']\n",
    "adelie_f['flipper_length_mm'].mean()"
   ]
  },
  {
   "cell_type": "code",
   "execution_count": 17,
   "id": "01297efb-3a19-4f9d-906c-ae61db05a094",
   "metadata": {},
   "outputs": [
    {
     "data": {
      "text/plain": [
       "np.float64(217.05576777966422)"
      ]
     },
     "execution_count": 17,
     "metadata": {},
     "output_type": "execute_result"
    }
   ],
   "source": [
    "gentoo_f = penguins[penguins['species'] == 'Gentoo']\n",
    "gentoo_f['flipper_length_mm'].mean()"
   ]
  },
  {
   "cell_type": "code",
   "execution_count": 18,
   "id": "098bc270-e6bc-4a70-b5c0-6d08adeedc73",
   "metadata": {},
   "outputs": [
    {
     "data": {
      "text/plain": [
       "np.float64(195.8235294117647)"
      ]
     },
     "execution_count": 18,
     "metadata": {},
     "output_type": "execute_result"
    }
   ],
   "source": [
    "chinstrap_f = penguins[penguins['species'] == 'Chinstrap']\n",
    "chinstrap_f['flipper_length_mm'].mean()"
   ]
  },
  {
   "cell_type": "markdown",
   "id": "e0f94224-6a1f-4a61-9d13-e78b8002ae88",
   "metadata": {},
   "source": [
    "<h1>Insight:</h1>\n",
    "<h3>The species that has the longest flipper is \"Gentoo\" with the length of 217mm on average.</h3>\n",
    "<hr>"
   ]
  },
  {
   "cell_type": "markdown",
   "id": "a12b8673-6963-4708-bd39-8937e4cc76c9",
   "metadata": {},
   "source": [
    "<h1>4. Which species from the dataset has the lightest bodymass?</h1>"
   ]
  },
  {
   "cell_type": "code",
   "execution_count": 19,
   "id": "c57c1cef-1aa9-47f3-bf57-7f8c4c13f289",
   "metadata": {},
   "outputs": [
    {
     "data": {
      "text/plain": [
       "['Adelie', 'Gentoo', 'Chinstrap']\n",
       "Categories (3, object): ['Adelie', 'Chinstrap', 'Gentoo']"
      ]
     },
     "execution_count": 19,
     "metadata": {},
     "output_type": "execute_result"
    }
   ],
   "source": [
    "penguins['species'].unique()"
   ]
  },
  {
   "cell_type": "code",
   "execution_count": 20,
   "id": "f28f36d2-f715-4a85-9bd3-ead5ecd24333",
   "metadata": {},
   "outputs": [
    {
     "data": {
      "text/plain": [
       "np.float64(3.7052631578947373)"
      ]
     },
     "execution_count": 20,
     "metadata": {},
     "output_type": "execute_result"
    }
   ],
   "source": [
    "adelie_kg = penguins[penguins['species'] == 'Adelie']\n",
    "adelie_kg['mass_kg'].mean()"
   ]
  },
  {
   "cell_type": "code",
   "execution_count": 21,
   "id": "8238aa2e-6a13-4ec0-9032-312f94a25beb",
   "metadata": {},
   "outputs": [
    {
     "data": {
      "text/plain": [
       "np.float64(5.069354838709677)"
      ]
     },
     "execution_count": 21,
     "metadata": {},
     "output_type": "execute_result"
    }
   ],
   "source": [
    "gentoo_kg = penguins[penguins['species'] == 'Gentoo']\n",
    "gentoo_kg['mass_kg'].mean()"
   ]
  },
  {
   "cell_type": "code",
   "execution_count": 22,
   "id": "978a2d73-682f-4e34-ab2b-33f6d461ec74",
   "metadata": {},
   "outputs": [
    {
     "data": {
      "text/plain": [
       "np.float64(3.730882352941177)"
      ]
     },
     "execution_count": 22,
     "metadata": {},
     "output_type": "execute_result"
    }
   ],
   "source": [
    "chinstrap_kg = penguins[penguins['species'] == 'Chinstrap']\n",
    "chinstrap_kg['mass_kg'].mean()"
   ]
  },
  {
   "cell_type": "markdown",
   "id": "73c93dd5-0576-4381-9b9b-38cba0ee4cf9",
   "metadata": {},
   "source": [
    "<h1>Insight:</h1>\n",
    "<h3>The species that has the lightest bodymass weighing only 3.7kg on average is \"Adelie\"</h3>\n",
    "<hr>"
   ]
  },
  {
   "cell_type": "markdown",
   "id": "6d9d5621-89ce-47b5-827d-aab7fb9fbb37",
   "metadata": {},
   "source": [
    "<h1>5. Which species from dataset has the heaviest bodymass?</h1>"
   ]
  },
  {
   "cell_type": "code",
   "execution_count": 23,
   "id": "3cc9ae95-46ff-4b25-8b67-54a0aeb2bae6",
   "metadata": {},
   "outputs": [
    {
     "data": {
      "text/plain": [
       "['Adelie', 'Gentoo', 'Chinstrap']\n",
       "Categories (3, object): ['Adelie', 'Chinstrap', 'Gentoo']"
      ]
     },
     "execution_count": 23,
     "metadata": {},
     "output_type": "execute_result"
    }
   ],
   "source": [
    "penguins['species'].unique()"
   ]
  },
  {
   "cell_type": "code",
   "execution_count": 24,
   "id": "4675fd0c-e6e4-4844-a57e-dfd176445f64",
   "metadata": {},
   "outputs": [
    {
     "data": {
      "text/plain": [
       "np.float64(3.7052631578947373)"
      ]
     },
     "execution_count": 24,
     "metadata": {},
     "output_type": "execute_result"
    }
   ],
   "source": [
    "adelie_kg = penguins[penguins['species'] == 'Adelie']\n",
    "adelie_kg['mass_kg'].mean()"
   ]
  },
  {
   "cell_type": "code",
   "execution_count": 25,
   "id": "8cbc08b8-d6ac-4625-a0ce-19e7bb9e8ff2",
   "metadata": {},
   "outputs": [
    {
     "data": {
      "text/plain": [
       "np.float64(5.069354838709677)"
      ]
     },
     "execution_count": 25,
     "metadata": {},
     "output_type": "execute_result"
    }
   ],
   "source": [
    "gentoo_kg = penguins[penguins['species'] == 'Gentoo']\n",
    "gentoo_kg['mass_kg'].mean()"
   ]
  },
  {
   "cell_type": "code",
   "execution_count": 26,
   "id": "9b1dc043-83da-45c8-9afb-71c5ce64de50",
   "metadata": {},
   "outputs": [
    {
     "data": {
      "text/plain": [
       "np.float64(5.069354838709677)"
      ]
     },
     "execution_count": 26,
     "metadata": {},
     "output_type": "execute_result"
    }
   ],
   "source": [
    "gentoo_kg = penguins[penguins['species'] == 'Gentoo']\n",
    "gentoo_kg['mass_kg'].mean()"
   ]
  },
  {
   "cell_type": "markdown",
   "id": "a850b1e1-cae2-41a3-bb7a-cc7fecce99c8",
   "metadata": {},
   "source": [
    "<h1>Insight:</h1>\n",
    "<h3>The species that has the heaviest bodymass weighing 5kg on average is \"Gentoo\"</h3>\n",
    "<hr>"
   ]
  },
  {
   "cell_type": "markdown",
   "id": "a527ce97-1588-40d9-93fa-5f9bd0b0b6c3",
   "metadata": {},
   "source": [
    "<h1>6. Which species from the dataset has the shortest flipper length?</h1>"
   ]
  },
  {
   "cell_type": "code",
   "execution_count": 27,
   "id": "36c43443-5fff-4982-a762-3b378e3cafeb",
   "metadata": {},
   "outputs": [
    {
     "data": {
      "text/plain": [
       "['Adelie', 'Gentoo', 'Chinstrap']\n",
       "Categories (3, object): ['Adelie', 'Chinstrap', 'Gentoo']"
      ]
     },
     "execution_count": 27,
     "metadata": {},
     "output_type": "execute_result"
    }
   ],
   "source": [
    "penguins['species'].unique()"
   ]
  },
  {
   "cell_type": "code",
   "execution_count": 28,
   "id": "69cce05e-b5a2-4a98-be9d-3a6ec510b535",
   "metadata": {},
   "outputs": [
    {
     "data": {
      "text/plain": [
       "np.float64(190.02575792551556)"
      ]
     },
     "execution_count": 28,
     "metadata": {},
     "output_type": "execute_result"
    }
   ],
   "source": [
    "adelie_f = penguins[penguins['species'] == 'Adelie']\n",
    "adelie_f['flipper_length_mm'].mean()"
   ]
  },
  {
   "cell_type": "code",
   "execution_count": 29,
   "id": "9a70890e-a85f-4310-abff-42b2d7a373cc",
   "metadata": {},
   "outputs": [
    {
     "data": {
      "text/plain": [
       "np.float64(217.05576777966422)"
      ]
     },
     "execution_count": 29,
     "metadata": {},
     "output_type": "execute_result"
    }
   ],
   "source": [
    "gentoo_f = penguins[penguins['species'] == 'Gentoo']\n",
    "gentoo_f['flipper_length_mm'].mean()"
   ]
  },
  {
   "cell_type": "code",
   "execution_count": 30,
   "id": "95d1289b-d76f-45b6-9989-817c825b122a",
   "metadata": {},
   "outputs": [
    {
     "data": {
      "text/plain": [
       "np.float64(195.8235294117647)"
      ]
     },
     "execution_count": 30,
     "metadata": {},
     "output_type": "execute_result"
    }
   ],
   "source": [
    "chinstrap_f = penguins[penguins['species'] == 'Chinstrap']\n",
    "chinstrap_f['flipper_length_mm'].mean()"
   ]
  },
  {
   "cell_type": "markdown",
   "id": "dfececb6-2302-425d-b446-48bc494177ad",
   "metadata": {},
   "source": [
    "<h1>Insight:</h1>\n",
    "<h3>The species that has the shortest flipper is \"Adelie\" with the length of only 190mm on average.</h3>\n",
    "<hr>"
   ]
  },
  {
   "cell_type": "markdown",
   "id": "be08cfe1-7a32-4252-a847-dd2220cdd7f4",
   "metadata": {},
   "source": [
    "<h3>7. Which species from the dateset has the shortest bill length?</h3>"
   ]
  },
  {
   "cell_type": "code",
   "execution_count": 31,
   "id": "055dabe4-6ae4-4a6c-a8bd-e2add1e3d4d4",
   "metadata": {},
   "outputs": [
    {
     "data": {
      "text/plain": [
       "['Adelie', 'Gentoo', 'Chinstrap']\n",
       "Categories (3, object): ['Adelie', 'Chinstrap', 'Gentoo']"
      ]
     },
     "execution_count": 31,
     "metadata": {},
     "output_type": "execute_result"
    }
   ],
   "source": [
    "penguins['species'].unique()"
   ]
  },
  {
   "cell_type": "code",
   "execution_count": 32,
   "id": "c1733ee6-9b8c-4b04-9dac-733f2960706d",
   "metadata": {},
   "outputs": [
    {
     "data": {
      "text/plain": [
       "np.float64(38.82514427516159)"
      ]
     },
     "execution_count": 32,
     "metadata": {},
     "output_type": "execute_result"
    }
   ],
   "source": [
    "adelie_df = penguins[penguins['species'] == 'Adelie']\n",
    "adelie_df['bill_length_mm'].mean()"
   ]
  },
  {
   "cell_type": "code",
   "execution_count": 33,
   "id": "97283a7e-f366-4101-8636-9f91924ddc15",
   "metadata": {},
   "outputs": [
    {
     "data": {
      "text/plain": [
       "np.float64(47.475983305036785)"
      ]
     },
     "execution_count": 33,
     "metadata": {},
     "output_type": "execute_result"
    }
   ],
   "source": [
    "gentoo_df = penguins[penguins['species'] == 'Gentoo']\n",
    "gentoo_df['bill_length_mm'].mean()"
   ]
  },
  {
   "cell_type": "code",
   "execution_count": 34,
   "id": "228abffc-b391-4f47-80a8-e125f28f3e0b",
   "metadata": {},
   "outputs": [
    {
     "data": {
      "text/plain": [
       "np.float64(48.83382352941177)"
      ]
     },
     "execution_count": 34,
     "metadata": {},
     "output_type": "execute_result"
    }
   ],
   "source": [
    "chinstrap_df = penguins[penguins['species'] == 'Chinstrap']\n",
    "chinstrap_df['bill_length_mm'].mean()"
   ]
  },
  {
   "cell_type": "markdown",
   "id": "c46e750f-8f9d-483b-b9dc-eb19fadd9fd9",
   "metadata": {},
   "source": [
    "<h1>Insight:</h1>\n",
    "<h3>The species that has the shortest bill by length is \"Chinstrap\" with the length of only 38.8mm on average.</h3>\n",
    "<hr>"
   ]
  },
  {
   "cell_type": "markdown",
   "id": "8932bb7a-2fb0-4cbf-9f17-ba8f47de2a51",
   "metadata": {},
   "source": [
    "<h1>8. Which species has the most males and females on the dataset</h1>"
   ]
  },
  {
   "cell_type": "code",
   "execution_count": 35,
   "id": "5bb17c82-6b96-49d1-9dd4-e1f55c162d34",
   "metadata": {},
   "outputs": [
    {
     "data": {
      "text/plain": [
       "species    sex   \n",
       "Adelie     female    73\n",
       "           male      79\n",
       "Chinstrap  female    34\n",
       "           male      34\n",
       "Gentoo     female    58\n",
       "           male      66\n",
       "dtype: int64"
      ]
     },
     "execution_count": 35,
     "metadata": {},
     "output_type": "execute_result"
    }
   ],
   "source": [
    "penguins.groupby(['species','sex']).size()"
   ]
  },
  {
   "cell_type": "markdown",
   "id": "9428b63a-8577-42ec-989d-67b4ea193e3b",
   "metadata": {},
   "source": [
    "<h1>Insight:</h1>\n",
    "<h3>Adelie has the largest population overall</h3>\n",
    "<hr>"
   ]
  },
  {
   "cell_type": "markdown",
   "id": "4769a11d-3fba-41d9-8599-cea6f4b9e53a",
   "metadata": {},
   "source": [
    "<h1>9. Do species from different islands has different flipper lenghts?</h1>"
   ]
  },
  {
   "cell_type": "code",
   "execution_count": 36,
   "id": "d21e16ea-991a-46c3-8ab2-21eb902a9a64",
   "metadata": {},
   "outputs": [
    {
     "data": {
      "text/plain": [
       "F_onewayResult(statistic=np.float64(101.63554766355604), pvalue=np.float64(2.388459860537622e-35))"
      ]
     },
     "execution_count": 36,
     "metadata": {},
     "output_type": "execute_result"
    }
   ],
   "source": [
    "f_oneway(penguins[penguins['island']=='Torgersen']['flipper_length_mm'],penguins[penguins['island']=='Dream']['flipper_length_mm'],penguins[penguins['island']=='Biscoe']['flipper_length_mm'])"
   ]
  },
  {
   "cell_type": "markdown",
   "id": "fade894b-34f4-4563-83dd-f3ce02c201a4",
   "metadata": {},
   "source": [
    "<h1>Insight:</h1>\n",
    "<h3>The species flipper length is sigificantly different between islands</h3>\n",
    "<hr>"
   ]
  },
  {
   "cell_type": "markdown",
   "id": "cf3051c3-187f-444f-a080-366fc4055080",
   "metadata": {},
   "source": [
    "<h1>10. Do heavier penguins also have a longer bills?</h1>"
   ]
  },
  {
   "cell_type": "code",
   "execution_count": 37,
   "id": "6cafb065-762b-4ae4-a893-58087cda0205",
   "metadata": {},
   "outputs": [
    {
     "data": {
      "text/plain": [
       "np.float64(0.5951098244376302)"
      ]
     },
     "execution_count": 37,
     "metadata": {},
     "output_type": "execute_result"
    }
   ],
   "source": [
    "penguins['bill_length_mm'].corr(penguins['body_mass_g'])"
   ]
  },
  {
   "cell_type": "markdown",
   "id": "71b4ceb2-fb6c-4af2-b1fd-55c8d8d3c715",
   "metadata": {},
   "source": [
    "<h1>Insight:</h1>\n",
    "<h3>There is a correlation, heavier penguins tends to have a longer bills</h3>\n",
    "<hr>"
   ]
  },
  {
   "cell_type": "markdown",
   "id": "da702576-0ee4-4ead-9c25-c8810e9c8a47",
   "metadata": {},
   "source": [
    "<h1>11. Are male penguins heavier than female penguins?</h1>"
   ]
  },
  {
   "cell_type": "code",
   "execution_count": 38,
   "id": "e84356dd-6411-47a9-9276-e557e99b9881",
   "metadata": {},
   "outputs": [
    {
     "data": {
      "text/plain": [
       "species    sex   \n",
       "Adelie     female    3368.835616\n",
       "           male      4013.629802\n",
       "Chinstrap  female    3527.205882\n",
       "           male      3938.970588\n",
       "Gentoo     female    4679.741379\n",
       "           male      5411.011430\n",
       "Name: body_mass_g, dtype: float64"
      ]
     },
     "execution_count": 38,
     "metadata": {},
     "output_type": "execute_result"
    }
   ],
   "source": [
    "penguins.groupby(['species','sex'])['body_mass_g'].mean()"
   ]
  },
  {
   "cell_type": "markdown",
   "id": "6c7cfcff-7738-4d99-8fc1-e6a708e64fc5",
   "metadata": {},
   "source": [
    "<h1>Insight:</h1>\n",
    "<h3>In all species, males appear to be more heavier than females</h3>\n",
    "<hr>"
   ]
  },
  {
   "cell_type": "markdown",
   "id": "0949fc57-59c8-4193-88f4-633e05f17010",
   "metadata": {},
   "source": [
    "<h1>12. Do heavier penguins usually have longer flippers?</h1>"
   ]
  },
  {
   "cell_type": "code",
   "execution_count": 39,
   "id": "c8d65d09-1ef8-4ed8-a67c-7af60a613c58",
   "metadata": {},
   "outputs": [
    {
     "data": {
      "text/plain": [
       "np.float64(0.8712017673060114)"
      ]
     },
     "execution_count": 39,
     "metadata": {},
     "output_type": "execute_result"
    }
   ],
   "source": [
    "penguins['flipper_length_mm'].corr(penguins['body_mass_g'])"
   ]
  },
  {
   "cell_type": "markdown",
   "id": "91f41cff-d568-4dc2-81c4-0ca953837ed3",
   "metadata": {},
   "source": [
    "<h1>Insight:</h1>\n",
    "<h3>There is a correlation, heavier penguins tends to have a longer flippers</h3>\n",
    "<hr>"
   ]
  }
 ],
 "metadata": {
  "kernelspec": {
   "display_name": "Python 3 (ipykernel)",
   "language": "python",
   "name": "python3"
  },
  "language_info": {
   "codemirror_mode": {
    "name": "ipython",
    "version": 3
   },
   "file_extension": ".py",
   "mimetype": "text/x-python",
   "name": "python",
   "nbconvert_exporter": "python",
   "pygments_lexer": "ipython3",
   "version": "3.13.6"
  }
 },
 "nbformat": 4,
 "nbformat_minor": 5
}
